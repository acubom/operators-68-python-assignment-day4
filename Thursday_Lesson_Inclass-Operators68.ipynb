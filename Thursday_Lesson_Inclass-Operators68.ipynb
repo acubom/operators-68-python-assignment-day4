{
 "cells": [
  {
   "cell_type": "markdown",
   "metadata": {},
   "source": [
    "# Object-Oriented-Programming (OOP)"
   ]
  },
  {
   "cell_type": "markdown",
   "metadata": {},
   "source": [
    "## Tasks Today:\n",
    "\n",
    "   \n",
    "\n",
    "1) <b>Creating a Class (Initializing/Declaring)</b> <br>\n",
    "2) <b>Using a Class (Instantiating)</b> <br>\n",
    " &nbsp;&nbsp;&nbsp;&nbsp; a) Creating One Instance <br>\n",
    " &nbsp;&nbsp;&nbsp;&nbsp; b) Creating Multiple Instances <br>\n",
    " &nbsp;&nbsp;&nbsp;&nbsp; c) In-Class Exercise #1 - Create a Class 'Car' and instantiate three different makes of cars <br>\n",
    "3) <b>The \\__init\\__() Method</b> <br>\n",
    " &nbsp;&nbsp;&nbsp;&nbsp; a) The 'self' Attribute <br>\n",
    "4) <b>Class Attributes</b> <br>\n",
    " &nbsp;&nbsp;&nbsp;&nbsp; a) Initializing Attributes <br>\n",
    " &nbsp;&nbsp;&nbsp;&nbsp; b) Setting an Attribute Outside of the \\__init\\__() Method <br>\n",
    " &nbsp;&nbsp;&nbsp;&nbsp; c) Setting Defaults for Attributes <br>\n",
    " &nbsp;&nbsp;&nbsp;&nbsp; d) Accessing Class Attributes <br>\n",
    " &nbsp;&nbsp;&nbsp;&nbsp; e) Changing Class Attributes <br>\n",
    " &nbsp;&nbsp;&nbsp;&nbsp; f) In-Class Exercise #2 - Add a color and wheels attribute to your 'Car' class <br>\n",
    "5) <b>Class Methods</b> <br>\n",
    " &nbsp;&nbsp;&nbsp;&nbsp; a) Creating <br>\n",
    " &nbsp;&nbsp;&nbsp;&nbsp; b) Calling <br>\n",
    " &nbsp;&nbsp;&nbsp;&nbsp; c) Modifying an Attribute's Value Through a Method <br>\n",
    " &nbsp;&nbsp;&nbsp;&nbsp; d) Incrementing an Attribute's Value Through a Method <br>\n",
    " &nbsp;&nbsp;&nbsp;&nbsp; e) In-Class Exercise #3 - Add a method that prints the cars color and wheel number, then call them <br>\n",
    "6) <b>Inheritance</b> <br>\n",
    " &nbsp;&nbsp;&nbsp;&nbsp; a) Syntax for Inheriting from a Parent Class <br>\n",
    " &nbsp;&nbsp;&nbsp;&nbsp; b) The \\__init\\__() Method for a Child Class (super()) <br>\n",
    " &nbsp;&nbsp;&nbsp;&nbsp; c) Defining Attributes and Methods for the Child Class <br>\n",
    " &nbsp;&nbsp;&nbsp;&nbsp; d) Method Overriding <br>\n",
    " &nbsp;&nbsp;&nbsp;&nbsp; e) In-Class Exercise #4 - Create a class 'Ford' that inherits from 'Car' class and initialize it as a Blue Ford Explorer with 4 wheels using the super() method <br>\n",
    "7) <b>Classes as Attributes</b> <br>\n",
    "8) <b>Exercises</b> <br>\n",
    " &nbsp;&nbsp;&nbsp;&nbsp; a) Exercise #1 - Turn the shopping cart program from yesterday into an object-oriented program <br>"
   ]
  },
  {
   "cell_type": "code",
   "execution_count": 2,
   "metadata": {},
   "outputs": [
    {
     "name": "stdout",
     "output_type": "stream",
     "text": [
      "What would you like to do? Add / remove / show / clear your cart: clear your cart\n",
      "Sorry not a valid reponse...\n",
      "What would you like to do? Add / remove / show / clear your cart: clear\n",
      "Your cart is now empty...\n",
      "What would you like to do? Add / remove / show / clear your cart: quit\n",
      "Thanks for shopping with us!\n",
      "Here is your cart...\n"
     ]
    }
   ],
   "source": [
    "from IPython.display import clear_output\n",
    "\n",
    "cart = []\n",
    "\n",
    "# Adding Item to cart\n",
    "\n",
    "def addItem(item):\n",
    "    clear_output()\n",
    "    cart.append(item)\n",
    "\n",
    "\n",
    "# Remove from cart\n",
    "def removeItem(item):\n",
    "    clear_output()\n",
    "    cart.remove(item)\n",
    "\n",
    "    \n",
    "# Show Cart\n",
    "def showCart():\n",
    "    print(\"Here is your cart...\")\n",
    "    for item in cart:\n",
    "        print(item)\n",
    "\n",
    "\n",
    "\n",
    "# Clear Cart\n",
    "def clearCart():\n",
    "    print('Your cart is now empty...')\n",
    "    cart.clear()\n",
    "    \n",
    "    \n",
    "\n",
    "# Program utilizing pre-built functionality\n",
    "def shoppingCart():\n",
    "    while True:\n",
    "        response = input(\"What would you like to do? Add / remove / show / clear your cart: \")\n",
    "        if response.lower() == 'quit':\n",
    "            print('Thanks for shopping with us!')\n",
    "            showCart()\n",
    "            break\n",
    "        elif response.lower() == 'add':\n",
    "            item_resp = input('What would you like to add?')\n",
    "            addItem(item_resp)\n",
    "        elif response.lower() == 'remove':\n",
    "            showCart()\n",
    "            remove_resp = input(\"What do you wanna remove? \")\n",
    "            removeItem(remove_resp)\n",
    "        elif response.lower() == 'show':\n",
    "            showCart()\n",
    "        elif response.lower() == 'clear':\n",
    "            clearCart()\n",
    "        else:\n",
    "            print('Sorry not a valid reponse...')\n",
    "shoppingCart()"
   ]
  },
  {
   "cell_type": "markdown",
   "metadata": {},
   "source": [
    "## Creating a Class (Initializing/Declaring)\n",
    "<p>When creating a class, function, or even a variable you are initializing that object. Initializing and Declaring occur at the same time in Python, whereas in lower level languages you have to declare an object before initializing it. This is the first step in the process of using a class.</p>"
   ]
  },
  {
   "cell_type": "code",
   "execution_count": 3,
   "metadata": {},
   "outputs": [],
   "source": [
    "# class Car: OR class Car():\n",
    "\n",
    "class Car():\n",
    "    wheels = 4\n",
    "    color = 'blue'"
   ]
  },
  {
   "cell_type": "markdown",
   "metadata": {},
   "source": [
    "## Using a Class (Instantiating)\n",
    "<p>The process of creating a class is called <i>Instantiating</i>. Each time you create a variable of that type of class, it is referred to as an <i>Instance</i> of that class. This is the second step in the process of using a class.</p>"
   ]
  },
  {
   "cell_type": "markdown",
   "metadata": {},
   "source": [
    "##### Creating One Instance"
   ]
  },
  {
   "cell_type": "code",
   "execution_count": 4,
   "metadata": {},
   "outputs": [
    {
     "name": "stdout",
     "output_type": "stream",
     "text": [
      "<__main__.Car object at 0x00000244B6A54100>\n",
      "4\n",
      "blue\n"
     ]
    }
   ],
   "source": [
    "ford = Car()\n",
    "print(ford)\n",
    "\n",
    "print(ford.wheels)\n",
    "print(ford.color)"
   ]
  },
  {
   "cell_type": "markdown",
   "metadata": {},
   "source": [
    "##### Creating Multiple Instances"
   ]
  },
  {
   "cell_type": "code",
   "execution_count": 5,
   "metadata": {},
   "outputs": [
    {
     "name": "stdout",
     "output_type": "stream",
     "text": [
      "<__main__.Car object at 0x00000244B6A54C70>\n",
      "<__main__.Car object at 0x00000244B6A54F70>\n"
     ]
    }
   ],
   "source": [
    "chevy = Car()\n",
    "honda = Car()\n",
    "lambo = Car()\n",
    "\n",
    "print(chevy)\n",
    "print(lambo)"
   ]
  },
  {
   "cell_type": "markdown",
   "metadata": {},
   "source": [
    "##### In-Class Exercise #1 - Create a Class 'Car' and Instantiate three different makes of cars"
   ]
  },
  {
   "cell_type": "code",
   "execution_count": 6,
   "metadata": {},
   "outputs": [
    {
     "name": "stdout",
     "output_type": "stream",
     "text": [
      "4\n",
      "blue\n"
     ]
    }
   ],
   "source": [
    "# create a new car class with doors, color, wheels, and sunroof\n",
    "\n",
    "class Car():\n",
    "    wheels = 4\n",
    "    color = 'blue'\n",
    "    doors = 4\n",
    "    sunroof = True\n",
    "    \n",
    "mercedes = Car()\n",
    "bmw = Car()\n",
    "infinti = Car()\n",
    "\n",
    "print(mercedes.wheels)\n",
    "print(bmw.color)\n",
    "    "
   ]
  },
  {
   "cell_type": "markdown",
   "metadata": {},
   "source": [
    "## The \\__init\\__() Method <br>\n",
    "<p>This method is used in almost every created class, and called only once upon the creation of the class instance. This method will initialize all variables needed for the object.</p>"
   ]
  },
  {
   "cell_type": "code",
   "execution_count": 7,
   "metadata": {},
   "outputs": [
    {
     "name": "stdout",
     "output_type": "stream",
     "text": [
      "18\n",
      "1\n"
     ]
    },
    {
     "data": {
      "text/plain": [
       "{'rooftop': 3, 'horn': 3, 'wheels': 18}"
      ]
     },
     "execution_count": 7,
     "metadata": {},
     "output_type": "execute_result"
    }
   ],
   "source": [
    "# dunder' or double underscore init double underscore (__init__())\n",
    "\n",
    "class Toy:\n",
    "    kind = 'Car'\n",
    "    \n",
    "    def __init__(self, rooftop, horn, wheels):\n",
    "        self. rooftop = rooftop\n",
    "        self.horn = horn\n",
    "        self.wheels = wheels\n",
    "        \n",
    "hotwheels = Toy(1, 1, 4)\n",
    "tonka = Toy(3, 3, 18)\n",
    "\n",
    "print(tonka.wheels)\n",
    "print(hotwheels.horn)\n",
    "\n",
    "tonka.__dict__"
   ]
  },
  {
   "cell_type": "markdown",
   "metadata": {},
   "source": [
    "##### The 'self' Attribute <br>\n",
    "<p>This attribute is required to keep track of specific instance's attributes. Without the self attribute, the program would not know how to reference or keep track of an instance's attributes.</p>"
   ]
  },
  {
   "cell_type": "code",
   "execution_count": 8,
   "metadata": {},
   "outputs": [],
   "source": [
    "# see above"
   ]
  },
  {
   "cell_type": "markdown",
   "metadata": {},
   "source": [
    "## Class Attributes <br>\n",
    "<p>While variables are inside of a class, they are referred to as attributes and not variables. When someone says 'attribute' you know they're speaking about a class. Attributes can be initialized through the init method, or outside of it.</p>"
   ]
  },
  {
   "cell_type": "markdown",
   "metadata": {},
   "source": [
    "##### Initializing Attributes"
   ]
  },
  {
   "cell_type": "code",
   "execution_count": 9,
   "metadata": {},
   "outputs": [],
   "source": [
    "# see above"
   ]
  },
  {
   "cell_type": "markdown",
   "metadata": {},
   "source": [
    "##### Accessing Class Attributes"
   ]
  },
  {
   "cell_type": "code",
   "execution_count": 10,
   "metadata": {
    "scrolled": true
   },
   "outputs": [
    {
     "name": "stdout",
     "output_type": "stream",
     "text": [
      "1\n",
      "4\n"
     ]
    }
   ],
   "source": [
    "# See Above\n",
    "\n",
    "tonka = Toy(1,1,4)\n",
    "\n",
    "print(tonka.rooftop)\n",
    "print(tonka.wheels)"
   ]
  },
  {
   "cell_type": "markdown",
   "metadata": {},
   "source": [
    "##### Setting Defaults for Attributes"
   ]
  },
  {
   "cell_type": "code",
   "execution_count": 11,
   "metadata": {},
   "outputs": [
    {
     "data": {
      "text/plain": [
       "'Black'"
      ]
     },
     "execution_count": 11,
     "metadata": {},
     "output_type": "execute_result"
    }
   ],
   "source": [
    "class Human():\n",
    "    def __init__(self, eyes, height, activity, hair='Brown'):\n",
    "        self.eye = eyes\n",
    "        self.height = height\n",
    "        self.activity = activity\n",
    "        self.hair = hair\n",
    "        \n",
    "Nate = Human('blue', '6ft1in', True)\n",
    "\n",
    "julia = Human('brown', '5ft10in', True, 'Black')\n",
    "\n",
    "julia.hair"
   ]
  },
  {
   "cell_type": "markdown",
   "metadata": {},
   "source": [
    "##### Changing Class Attributes <br>\n",
    "<p>Keep in mind there are global class attributes and then there are attributes only available to each class instance which won't effect other classes.</p>"
   ]
  },
  {
   "cell_type": "code",
   "execution_count": 12,
   "metadata": {},
   "outputs": [
    {
     "name": "stdout",
     "output_type": "stream",
     "text": [
      "BEFORE attribute change: Black\n",
      "AFTER attribute change: Blonde\n"
     ]
    }
   ],
   "source": [
    "# changing the attribute\n",
    "\n",
    "print(f'BEFORE attribute change: {julia.hair}')\n",
    "\n",
    "julia.hair = 'Blonde'\n",
    "\n",
    "print(f'AFTER attribute change: {julia.hair}')"
   ]
  },
  {
   "cell_type": "code",
   "execution_count": null,
   "metadata": {},
   "outputs": [],
   "source": []
  },
  {
   "cell_type": "markdown",
   "metadata": {},
   "source": [
    "##### In-Class Exercise #2 - Add a doors and seats attribute to your 'Car' class then print out two different instances with different doors and seats"
   ]
  },
  {
   "cell_type": "code",
   "execution_count": 13,
   "metadata": {},
   "outputs": [
    {
     "name": "stdout",
     "output_type": "stream",
     "text": [
      "This car has 2 doors and 4 seats.\n",
      "This car has 2 doors and 4 seats.\n",
      "This car has 2 doors and 4 seats.\n"
     ]
    }
   ],
   "source": [
    "class Car:\n",
    "    def __init__(self, doors = 4, seats = 4):\n",
    "        self.doors = doors\n",
    "        self.seats = seats\n",
    "        \n",
    "    def printAttrib(self):\n",
    "        print(f'This car has {benz.doors} doors and {benz.seats} seats.')\n",
    "        \n",
    "benz = Car(2)\n",
    "bmw = Car()\n",
    "\n",
    "print(f'This car has {benz.doors} doors and {benz.seats} seats.')\n",
    "bmw.printAttrib()\n",
    "benz.printAttrib()"
   ]
  },
  {
   "cell_type": "markdown",
   "metadata": {},
   "source": [
    "## Class Methods <br>\n",
    "<p>While inside of a class, functions are referred to as 'methods'. If you hear someone mention methods, they're speaking about classes. Methods are essentially functions, but only callable on the instances of a class.</p>"
   ]
  },
  {
   "cell_type": "markdown",
   "metadata": {},
   "source": [
    "##### Creating"
   ]
  },
  {
   "cell_type": "code",
   "execution_count": 14,
   "metadata": {},
   "outputs": [
    {
     "name": "stdout",
     "output_type": "stream",
     "text": [
      "Here are the items in the bag...\n",
      "shirt\n",
      "shoes\n",
      "hat\n",
      "Your current bag capacity is: 10\n",
      "What would like to add?quit\n",
      "Success! Here is your new bag: ['quit']\n",
      "Your current bag capacity is: 25\n"
     ]
    },
    {
     "ename": "AttributeError",
     "evalue": "'ShoppingBag' object has no attribute 'increaseCapacity'",
     "output_type": "error",
     "traceback": [
      "\u001b[1;31m---------------------------------------------------------------------------\u001b[0m",
      "\u001b[1;31mAttributeError\u001b[0m                            Traceback (most recent call last)",
      "\u001b[1;32m<ipython-input-14-a410328a278a>\u001b[0m in \u001b[0;36m<module>\u001b[1;34m\u001b[0m\n\u001b[0;32m     59\u001b[0m \u001b[0mpacsun\u001b[0m \u001b[1;33m=\u001b[0m \u001b[0mShoppingBag\u001b[0m\u001b[1;33m(\u001b[0m\u001b[1;36m2\u001b[0m\u001b[1;33m,\u001b[0m\u001b[1;36m10\u001b[0m\u001b[1;33m,\u001b[0m\u001b[1;33m[\u001b[0m\u001b[1;33m]\u001b[0m\u001b[1;33m)\u001b[0m\u001b[1;33m\u001b[0m\u001b[1;33m\u001b[0m\u001b[0m\n\u001b[0;32m     60\u001b[0m \u001b[0mpacsun\u001b[0m\u001b[1;33m.\u001b[0m\u001b[0mchangeCapacity\u001b[0m\u001b[1;33m(\u001b[0m\u001b[1;36m25\u001b[0m\u001b[1;33m)\u001b[0m\u001b[1;33m\u001b[0m\u001b[1;33m\u001b[0m\u001b[0m\n\u001b[1;32m---> 61\u001b[1;33m \u001b[0mpacsun\u001b[0m\u001b[1;33m.\u001b[0m\u001b[0mincreaseCapacity\u001b[0m\u001b[1;33m(\u001b[0m\u001b[1;33m)\u001b[0m\u001b[1;33m\u001b[0m\u001b[1;33m\u001b[0m\u001b[0m\n\u001b[0m\u001b[0;32m     62\u001b[0m \u001b[0mpacsun\u001b[0m\u001b[1;33m.\u001b[0m\u001b[0mshowCapacity\u001b[0m\u001b[1;33m(\u001b[0m\u001b[1;33m)\u001b[0m\u001b[1;33m\u001b[0m\u001b[1;33m\u001b[0m\u001b[0m\n",
      "\u001b[1;31mAttributeError\u001b[0m: 'ShoppingBag' object has no attribute 'increaseCapacity'"
     ]
    }
   ],
   "source": [
    "class ShoppingBag:\n",
    "    \n",
    "    \"\"\" The Shoppinig Class will handles, capacity, and items\n",
    "    to place inside.\n",
    "    \n",
    "    Attrib for class:\n",
    "    - handles: expected to be an interger\n",
    "    - capacity: expected to be a string ro interger\n",
    "    - items: expected to be a list\n",
    "    \"\"\"\n",
    "    def __init__(self, handles, capacity, items):\n",
    "        self.handles = handles\n",
    "        self.capacity = capacity\n",
    "        self.items = items\n",
    "        \n",
    "    # method to show all items in items list   \n",
    "    def showShoppingBag(self):\n",
    "        print(\"Here are the items in the bag...\")\n",
    "        for item in self.items:\n",
    "            print(item)\n",
    "            \n",
    "\n",
    "            \n",
    "    # method to show capacity\n",
    "    def showCapacity(self):\n",
    "        print(f'Your current bag capacity is: {self.capacity}')\n",
    "        \n",
    "    # method to add items to bag\n",
    "    def addToShoppingBag(self):\n",
    "        product = input(\"What would like to add?\")\n",
    "        self.items.append(product)\n",
    "        print(f'Success! Here is your new bag: {self.items}')\n",
    "        \n",
    "    # method to change capacity dynamically\n",
    "    def changeCapacity(self, capacity):\n",
    "        self.capacity = capacity\n",
    "        \n",
    "    #increase cpacity of bag by 10\n",
    "    def increaseCapacit(self, changed_cap = 10):\n",
    "        if isinstance(self.capacity, str) :\n",
    "            print(\"Can not do that here...\")\n",
    "        else:\n",
    "            self.capacity += change_cap\n",
    "    \n",
    "        \n",
    "nordstrom = ShoppingBag(2,10,['shirt','shoes', 'hat'])\n",
    "nordstrom.showShoppingBag()\n",
    "\n",
    "pacsun = ShoppingBag(2,10,[])\n",
    "pacsun.showCapacity()\n",
    "\n",
    "pacsun = ShoppingBag(2,10,[])\n",
    "pacsun.addToShoppingBag()\n",
    "\n",
    "pacsun = ShoppingBag(2,10,[])\n",
    "pacsun.changeCapacity(25)\n",
    "pacsun.showCapacity()\n",
    "\n",
    "pacsun = ShoppingBag(2,10,[])\n",
    "pacsun.changeCapacity(25)\n",
    "pacsun.increaseCapacity()\n",
    "pacsun.showCapacity()"
   ]
  },
  {
   "cell_type": "markdown",
   "metadata": {},
   "source": [
    "##### Calling"
   ]
  },
  {
   "cell_type": "code",
   "execution_count": 15,
   "metadata": {},
   "outputs": [
    {
     "name": "stdout",
     "output_type": "stream",
     "text": [
      "What do you want to do? add/show/quitquit\n",
      "Thanks for shopping at Whole Foods!\n"
     ]
    }
   ],
   "source": [
    "# See Above\n",
    "\n",
    "#create a new instance of ShoppingBag\n",
    "#whole_foods = ShoppingBag(2,10,[])\n",
    "\n",
    "def run():\n",
    "    whole_foods = ShoppingBag(2,10,[])\n",
    "    while True:\n",
    "        response = input(\"What do you want to do? add/show/quit\")\n",
    "        \n",
    "        if response.lower() == 'quit':\n",
    "            whole_foods.showShoppingBag\n",
    "            print(\"Thanks for shopping at Whole Foods!\")\n",
    "            break\n",
    "        elif response.lower() == 'add':\n",
    "            whole_foods.addtoShoppingBag()\n",
    "        elif response.lower() == 'show':\n",
    "            whole_foods.showShoppingBag()\n",
    "        else:\n",
    "            print('Not a valid input -- please retry')\n",
    "            \n",
    "run()"
   ]
  },
  {
   "cell_type": "markdown",
   "metadata": {},
   "source": [
    "##### Modifying an Attribute's Value Through a Method"
   ]
  },
  {
   "cell_type": "code",
   "execution_count": null,
   "metadata": {},
   "outputs": [],
   "source": [
    "# See Above\n",
    "\n",
    "mcdonalds = ShoppingBag(2,100,[])\n",
    "mcdonalds.showCapacity()\n",
    "mcdonalds.changeCapacity(50)\n",
    "mcdonalds.showCapacity()"
   ]
  },
  {
   "cell_type": "markdown",
   "metadata": {},
   "source": [
    "##### Incrementing an Attribute's Value Through a Method"
   ]
  },
  {
   "cell_type": "code",
   "execution_count": null,
   "metadata": {},
   "outputs": [],
   "source": [
    "# See Above\n",
    "increaseCapacity"
   ]
  },
  {
   "cell_type": "markdown",
   "metadata": {},
   "source": [
    "##### In-Class Exercise #3 - Add a method that takes in three parameters of year, doors and seats and prints out a formatted print statement with make, model, year, seats, and doors"
   ]
  },
  {
   "cell_type": "code",
   "execution_count": null,
   "metadata": {},
   "outputs": [],
   "source": [
    "# Create class with 2 paramters inside of the __init__ which are make and model\n",
    "\n",
    "# Inside of the Car class create a method that has 4 parameter in total (self,year,door,seats)\n",
    "\n",
    "# Output: This car is from 2019 and is a Ford Expolorer and has 4 doors and 5 seats\n",
    "\n",
    "class Car:\n",
    "    def __init__(self, make='Ford', model='Explorer'):\n",
    "        self.make = make\n",
    "        self.model = model\n",
    "        \n",
    "    def showCar(self, year, doors, seats):\n",
    "        print(f'This car is from {year} and is a {self.make} {self.model} and has {doors} doors and {seats} seats.')\n",
    "        \n",
    "\n",
    "bmw = Car('BMW', '750')\n",
    "bmw.showCar(2021,4,5)"
   ]
  },
  {
   "cell_type": "markdown",
   "metadata": {},
   "source": [
    "## Inheritance <br>\n",
    "<p>You can create a child-parent relationship between two classes by using inheritance. What this allows you to do is have overriding methods, but also inherit traits from the parent class. Think of it as an actual parent and child, the child will inherit the parent's genes, as will the classes in OOP</p>"
   ]
  },
  {
   "cell_type": "markdown",
   "metadata": {},
   "source": [
    "##### Syntax for Inheriting from a Parent Class"
   ]
  },
  {
   "cell_type": "code",
   "execution_count": null,
   "metadata": {},
   "outputs": [],
   "source": [
    "# creation of our parent class -- Animal\n",
    "\n",
    "class Animal:\n",
    "    def __init__(self, name, species, legs=4):\n",
    "        self.name = name\n",
    "        self.species = species\n",
    "        self.legs = legs\n",
    "        \n",
    "    # Generic Paren (Animal) method - no override yet\n",
    "    def makeSound(self):\n",
    "        print('Make Some Generic Sound')\n",
    "\n",
    "# child class\n",
    "\n",
    "class Dog(Animal):\n",
    "    speed = 15\n",
    "    \n",
    "    def printInfo(self):\n",
    "        print(f'This Dog has a speed of {self.speed} and his name is {self.name}')\n",
    "        \n",
    "    def makeSound(self):\n",
    "        noise = 'Bark'\n",
    "        print(noise)\n",
    "    \n",
    "griffin = Dog('Griffin', 'Labrador Retriever')\n",
    "\n",
    "griffin.printInfo()\n",
    "\n",
    "# grandchild class\n",
    "\n",
    "class Mutt(Dog):\n",
    "    def __init__(self, name, species, eye_color, legs=4):\n",
    "        Dog.__init__(self, name, species, legs)\n",
    "        self.eye_color = eye_color\n",
    "                     \n",
    "hank = Mutt('Hank', 'Mutt', 'blue')\n",
    "hank.eye_color\n",
    "\n"
   ]
  },
  {
   "cell_type": "markdown",
   "metadata": {},
   "source": [
    "##### The \\__init\\__() Method for a Child Class - super()"
   ]
  },
  {
   "cell_type": "code",
   "execution_count": null,
   "metadata": {
    "scrolled": true
   },
   "outputs": [],
   "source": [
    "class Yorkie(Dog):\n",
    "    def __init__(self, name, species, eye_color, legs=4):\n",
    "        super().__init__(name, species, legs)\n",
    "        self.eye_color = eye_color\n",
    "        \n",
    "Austin = Yorkie('austin', 'yorkie', 'brown', 3)\n",
    "Austin.legs"
   ]
  },
  {
   "cell_type": "markdown",
   "metadata": {},
   "source": [
    "##### Defining Attributes and Methods for the Child Class"
   ]
  },
  {
   "cell_type": "code",
   "execution_count": null,
   "metadata": {},
   "outputs": [],
   "source": [
    "# See Above"
   ]
  },
  {
   "cell_type": "markdown",
   "metadata": {},
   "source": [
    "##### Method Overriding"
   ]
  },
  {
   "cell_type": "code",
   "execution_count": null,
   "metadata": {},
   "outputs": [],
   "source": [
    "# See Above"
   ]
  },
  {
   "cell_type": "markdown",
   "metadata": {},
   "source": [
    "## Classes as Attributes <br>\n",
    "<p>Classes can also be used as attributes within another class. This is useful in situations where you need to keep variables locally stored, instead of globally stored.</p>"
   ]
  },
  {
   "cell_type": "code",
   "execution_count": null,
   "metadata": {},
   "outputs": [],
   "source": [
    "class Battery:\n",
    "    volts = 7.8\n",
    "    \n",
    "    def __init__(self, cells):\n",
    "        self.cells = cells\n",
    "\n",
    "class Car:\n",
    "    def __init__(self, make, battery):\n",
    "        self.make = make\n",
    "        self.battery = battery\n",
    "        \n",
    "batt = Battery(16)\n",
    "\n",
    "tesla = Car('tesla', batt)\n",
    "\n",
    "tesla.battery.volts"
   ]
  },
  {
   "cell_type": "markdown",
   "metadata": {},
   "source": [
    "# Exercises"
   ]
  },
  {
   "cell_type": "markdown",
   "metadata": {},
   "source": [
    "### Exercise 1 - Turn the shopping cart program from yesterday into an object-oriented program\n",
    "\n",
    "The comments in the cell below are there as a guide for thinking about the problem. However, if you feel a different way is best for you and your own thought process, please do what feels best for you by all means."
   ]
  },
  {
   "cell_type": "code",
   "execution_count": 31,
   "metadata": {},
   "outputs": [],
   "source": [
    "class Cart():\n",
    "\n",
    "    def __init__(self, items=[], ):\n",
    "        self.items = items\n",
    "\n",
    "    def addItem(self):\n",
    "        item = input(Enter Item)\n",
    "        self.items.append(item)\n",
    "        print(Item added!)\n",
    "\n",
    "    def removeItem(self):\n",
    "        item = input(Enter Item)\n",
    "        self.items.remove(item)\n",
    "        print(item + \" has been removed!\")\n",
    "\n",
    "    def showCart(self):\n",
    "        for item in self.items:\n",
    "            print(item)\n",
    "\n",
    "    def checkCart(self):\n",
    "        if item in self.items:\n",
    "            print({self.items})\n",
    "        else: \n",
    "            print(\"Item is not in cart\")\n",
    "\n",
    "store = Cart([banana, milk, eggs])\n",
    "\n",
    "\n",
    "\n",
    "\n",
    "\n",
    "    "
   ]
  },
  {
   "cell_type": "markdown",
   "metadata": {},
   "source": [
    "### Exercise 2 - Write a Python class which has two methods get_String and print_String. get_String accept a string from the user and print_String print the string in upper case"
   ]
  },
  {
   "cell_type": "code",
   "execution_count": null,
   "metadata": {},
   "outputs": [],
   "source": [
    "# I'm when it comes to this exercise I don't understand what my attrib should be for this class\n",
    "\n",
    "class String():\n",
    "    def __init__()\n",
    "    \n",
    "    def get_String\n",
    "    \n",
    "    def print_String\n",
    "    \n"
   ]
  }
 ],
 "metadata": {
  "kernelspec": {
   "display_name": "Python 3",
   "language": "python",
   "name": "python3"
  }
 },
 "nbformat": 4,
 "nbformat_minor": 2
}
